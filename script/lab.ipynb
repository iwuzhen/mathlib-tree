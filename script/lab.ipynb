{
 "cells": [
  {
   "cell_type": "markdown",
   "metadata": {},
   "source": [
    "# 更新 mathlib tree"
   ]
  },
  {
   "cell_type": "code",
   "execution_count": 10,
   "metadata": {},
   "outputs": [
    {
     "name": "stdout",
     "output_type": "stream",
     "text": [
      "Cloning into '/tmp/mathlib4'...\n",
      "remote: Enumerating objects: 6918, done.\u001b[K\n",
      "remote: Counting objects: 100% (6918/6918), done.\u001b[K\n",
      "remote: Compressing objects: 100% (6742/6742), done.\u001b[K\n",
      "remote: Total 6918 (delta 119), reused 1247 (delta 61), pack-reused 0 (from 0)\u001b[K\n",
      "Receiving objects: 100% (6918/6918), 18.47 MiB | 4.81 MiB/s, done.\n",
      "Resolving deltas: 100% (119/119), done.\n",
      "Updating files: 100% (6054/6054), done.\n"
     ]
    }
   ],
   "source": [
    "# clone project\n",
    "# ! git clone --depth 1 https://github.com/leanprover-community/mathlib4.git /tmp/mathlib4\n",
    "! git clone --depth 1 https://gh-proxy.com/github.com/leanprover-community/mathlib4.git /tmp/mathlib4\n",
    "\n",
    "\n"
   ]
  },
  {
   "cell_type": "markdown",
   "metadata": {},
   "source": [
    "生成这样的 tree data\n",
    "[\n",
    "  {\n",
    "    title: 'parent 1',\n",
    "    key: '0-0',\n",
    "    children: [\n",
    "      {\n",
    "        title: 'leaf',\n",
    "        key: '0-0-0',\n",
    "      },\n",
    "      {\n",
    "        title: 'leaf',\n",
    "        key: '0-0-1',\n",
    "      },\n",
    "    ],\n",
    "  },\n",
    "];"
   ]
  },
  {
   "cell_type": "code",
   "execution_count": 25,
   "metadata": {},
   "outputs": [],
   "source": [
    "import pathlib\n",
    "\n",
    "path = pathlib.Path(\"/tmp/mathlib4/Mathlib\")\n",
    "\n",
    "key_index = 0\n",
    "def deep_path(path, faName):\n",
    "    global key_index\n",
    "    tree = []\n",
    "    for subpath in path.iterdir():\n",
    "        if faName:\n",
    "            title = f'{faName}.{subpath.name}'\n",
    "        else:\n",
    "            title = subpath.name\n",
    "        \n",
    "        title = title.replace(\".lean\", \"\")\n",
    "        key_index += 1\n",
    "        if subpath.is_file():\n",
    "            tree.append( {\n",
    "                \"title\": title,\n",
    "                \"key\": str(key_index),\n",
    "            })\n",
    "        else:\n",
    "            tree.append( {\n",
    "                \"title\": title,\n",
    "                \"key\": str(key_index),\n",
    "                \"children\": deep_path(subpath, title),\n",
    "            })\n",
    "    tree.sort(key=lambda x: x[\"title\"])\n",
    "    return tree\n",
    "\n",
    "data = deep_path(path, \"\")\n",
    "import json\n",
    "with open(\"../app/data/data.json\", \"w\") as f:\n",
    "    json.dump(data, f, indent=2)"
   ]
  }
 ],
 "metadata": {
  "kernelspec": {
   "display_name": "py3.11",
   "language": "python",
   "name": "python3"
  },
  "language_info": {
   "codemirror_mode": {
    "name": "ipython",
    "version": 3
   },
   "file_extension": ".py",
   "mimetype": "text/x-python",
   "name": "python",
   "nbconvert_exporter": "python",
   "pygments_lexer": "ipython3",
   "version": "3.11.3"
  }
 },
 "nbformat": 4,
 "nbformat_minor": 2
}
